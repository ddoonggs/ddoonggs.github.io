{
  "nbformat": 4,
  "nbformat_minor": 0,
  "metadata": {
    "colab": {
      "name": "320final.ipynb",
      "provenance": [],
      "collapsed_sections": []
    },
    "kernelspec": {
      "name": "python3",
      "display_name": "Python 3"
    }
  },
  "cells": [
    {
      "cell_type": "markdown",
      "metadata": {
        "id": "arRpQrFBcj-u"
      },
      "source": [
        "# Statistical analysis is becoming more and more important in many sports including basketball. Teams are organizing analytics teams in their organization and makes many in-game and off-the-court decisions based on the data provided. This project is an attempt to visualize the analytics being used in the NBA and to derive interesting relationships between variables that are in the game of basketball.\r\n"
      ]
    },
    {
      "cell_type": "markdown",
      "metadata": {
        "id": "2JqTsJQtvMtL"
      },
      "source": [
        "# One big difference between the current NBA and the NBA of Michael Jordan's time is the use of the 3-point shot.\r\n",
        "# Since the appearence of Stephen Curry in the NBA in 2009, the use of the 3-point shot has increased significantly.\r\n",
        "\r\n",
        "# The increase in 3-point shot attempts can be seen clearly in the below plot.\r\n",
        "# The data was web-scraped from a baketball statistics website."
      ]
    },
    {
      "cell_type": "code",
      "metadata": {
        "id": "mP4sm3Cx91Hn"
      },
      "source": [
        "\n",
        "from bs4 import BeautifulSoup\n",
        "import pandas\n",
        "import  numpy\n",
        "import datetime\n",
        "import requests\n",
        "from urllib.request import urlopen, Request\n",
        "import re\n"
      ],
      "execution_count": null,
      "outputs": []
    },
    {
      "cell_type": "code",
      "metadata": {
        "colab": {
          "base_uri": "https://localhost:8080/",
          "height": 296
        },
        "id": "8LJ3B8fLwBvK",
        "outputId": "1e827ca1-2e88-47b4-a02f-c03c6008d362"
      },
      "source": [
        "hdr = {'User-Agent': 'Safari/13.1'}\r\n",
        "r = Request('https://www.basketball-reference.com/leagues/NBA_stats_per_game.html', headers=hdr)\r\n",
        "\r\n",
        "resp = urlopen(r)\r\n",
        "\r\n",
        "respData = resp.read()\r\n",
        "\r\n",
        "data = BeautifulSoup(respData)\r\n",
        "\r\n",
        "table = data.find(id=\"stats\")\r\n",
        "table = table.find(\"tbody\")\r\n",
        "rows = table.find_all(\"tr\")\r\n",
        "\r\n",
        "years = []\r\n",
        "three_points_attempt = []\r\n",
        "year = 2020\r\n",
        "for x in range(45):\r\n",
        "  cols = rows[x].find_all(\"td\")\r\n",
        "  if not cols:\r\n",
        "    continue\r\n",
        "  else:\r\n",
        "    year = year-1\r\n",
        "    count = str(cols[10].renderContents())\r\n",
        "    count = count[2:-1]\r\n",
        "    three_points_attempt.append(float(count))\r\n",
        "    years.append(year)\r\n",
        "\r\n",
        "df = pandas.DataFrame()\r\n",
        "df[\"Three point Attempts\"] = three_points_attempt\r\n",
        "df[\"Year\"] = years\r\n",
        "df.plot(y=\"Three point Attempts\",x=\"Year\")"
      ],
      "execution_count": null,
      "outputs": [
        {
          "output_type": "execute_result",
          "data": {
            "text/plain": [
              "<matplotlib.axes._subplots.AxesSubplot at 0x7fe95f0b0dd8>"
            ]
          },
          "metadata": {
            "tags": []
          },
          "execution_count": 42
        },
        {
          "output_type": "display_data",
          "data": {
            "image/png": "[encoded data removed]",
            "text/plain": [
              "<Figure size 432x288 with 1 Axes>"
            ]
          },
          "metadata": {
            "tags": [],
            "needs_background": "light"
          }
        }
      ]
    },
    {
      "cell_type": "markdown",
      "metadata": {
        "id": "Pyi3FVmXKv0e"
      },
      "source": [
        "# In the plot, the section between 2009 and 2019 season shows a high slope indicating a radical increase in the data.\r\n",
        "\r\n",
        "# In sports, one of the most important things would be the question \" How can we win?\". In the end, the sports analystics used are there to figure out this question. Although, winning a basketball game deals with complex situations, this project will attempt to give insight on what in-game variable(statistic) in the NBA has high relation with win percentage.\r\n",
        "\r\n",
        "# Furthermore, we will divide the timeline into two sections. First will be the 10 seasons before Stephen Curry's draft into the NBA, and the second will be the 10 seasons after Stephen Curry's entrance. By doing this, we will attempt to see if the game of basketball in the NBA level really did change after Stephen Curry's appearance \r\n",
        "\r\n"
      ]
    },
    {
      "cell_type": "markdown",
      "metadata": {
        "id": "zVPgAVLrfHNT"
      },
      "source": [
        "# Here, we will web-scrape data again from the official NBA website. This time we will look at stats per team for each seasons to look at the relationships betweeen win rate and components of the game."
      ]
    },
    {
      "cell_type": "code",
      "metadata": {
        "id": "agKUVq7PfiE-"
      },
      "source": [
        ""
      ],
      "execution_count": null,
      "outputs": []
    }
  ]
}